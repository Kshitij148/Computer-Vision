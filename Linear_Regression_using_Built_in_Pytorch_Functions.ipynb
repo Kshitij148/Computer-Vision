{
 "cells": [
  {
   "cell_type": "code",
   "execution_count": 15,
   "metadata": {},
   "outputs": [],
   "source": [
    "import torch.nn as nn\n",
    "import torch\n",
    "import numpy as np\n",
    "#linear regression is simplest nueral network"
   ]
  },
  {
   "cell_type": "code",
   "execution_count": 16,
   "metadata": {},
   "outputs": [],
   "source": [
    "#Input (temp,rainfall,humidity)\n",
    "inputs=np.array([[73,67,43],[91,88,64],[87,134,58],\n",
    "                [102,43,37],[69,96,70],[73,67,43],\n",
    "                [91,88,64],[87,134,58],[102,43,37],\n",
    "                [69,96,70],[73,67,43],[91,88,64],\n",
    "                [87,134,58],[102,43,37],[69,96,70]],dtype=\"float32\")"
   ]
  },
  {
   "cell_type": "code",
   "execution_count": 17,
   "metadata": {},
   "outputs": [],
   "source": [
    "#Targets (apples,oranges)\n",
    "targets=np.array([[56,70],[81,101],[119,133],\n",
    "                 [22,37],[103,119],[56,70],\n",
    "                 [81,101],[119,133],[22,37],\n",
    "                 [103,119],[56,70],[81,101],\n",
    "                 [119,133],[22,37],[103,119]],dtype=\"float32\")"
   ]
  },
  {
   "cell_type": "code",
   "execution_count": 18,
   "metadata": {},
   "outputs": [],
   "source": [
    "inputs=torch.from_numpy(inputs) #convert to tensors\n",
    "targets=torch.from_numpy(targets)"
   ]
  },
  {
   "cell_type": "code",
   "execution_count": 22,
   "metadata": {},
   "outputs": [],
   "source": [
    "from torch.utils.data import TensorDataset\n",
    "#Tensordataset allows access to rows from inputs and targets as tuples and provides\n",
    "# standard ApI for working with many different types of datasets in Pytorch"
   ]
  },
  {
   "cell_type": "code",
   "execution_count": 23,
   "metadata": {},
   "outputs": [
    {
     "data": {
      "text/plain": [
       "(tensor([[ 73.,  67.,  43.],\n",
       "         [ 91.,  88.,  64.],\n",
       "         [ 87., 134.,  58.]]),\n",
       " tensor([[ 56.,  70.],\n",
       "         [ 81., 101.],\n",
       "         [119., 133.]]))"
      ]
     },
     "execution_count": 23,
     "metadata": {},
     "output_type": "execute_result"
    }
   ],
   "source": [
    "train_ds=TensorDataset(inputs,targets)\n",
    "train_ds[0:3]"
   ]
  },
  {
   "cell_type": "code",
   "execution_count": 24,
   "metadata": {},
   "outputs": [],
   "source": [
    "from torch.utils.data import DataLoader"
   ]
  },
  {
   "cell_type": "code",
   "execution_count": 28,
   "metadata": {},
   "outputs": [],
   "source": [
    "#Define data  loader\n",
    "#data Loader can split the data into batches of a predefined size while training\n",
    "#It also provides other utilities like shuffling and random sampling of the data\n",
    "batch_size=5\n",
    "train_dl=DataLoader(train_ds,batch_size,shuffle=True)\n",
    "#Dataloader(pytorch_dataset,batchsize)\n",
    "#shuffle tells the loader before creating batches shuffle the roes in the data"
   ]
  },
  {
   "cell_type": "code",
   "execution_count": 32,
   "metadata": {},
   "outputs": [
    {
     "name": "stdout",
     "output_type": "stream",
     "text": [
      "Batch\n",
      "tensor([[102.,  43.,  37.],\n",
      "        [102.,  43.,  37.],\n",
      "        [ 73.,  67.,  43.],\n",
      "        [ 87., 134.,  58.],\n",
      "        [ 69.,  96.,  70.]])\n",
      "tensor([[ 22.,  37.],\n",
      "        [ 22.,  37.],\n",
      "        [ 56.,  70.],\n",
      "        [119., 133.],\n",
      "        [103., 119.]])\n",
      "Batch\n",
      "tensor([[102.,  43.,  37.],\n",
      "        [ 91.,  88.,  64.],\n",
      "        [ 73.,  67.,  43.],\n",
      "        [ 91.,  88.,  64.],\n",
      "        [ 69.,  96.,  70.]])\n",
      "tensor([[ 22.,  37.],\n",
      "        [ 81., 101.],\n",
      "        [ 56.,  70.],\n",
      "        [ 81., 101.],\n",
      "        [103., 119.]])\n",
      "Batch\n",
      "tensor([[ 87., 134.,  58.],\n",
      "        [ 73.,  67.,  43.],\n",
      "        [ 69.,  96.,  70.],\n",
      "        [ 87., 134.,  58.],\n",
      "        [ 91.,  88.,  64.]])\n",
      "tensor([[119., 133.],\n",
      "        [ 56.,  70.],\n",
      "        [103., 119.],\n",
      "        [119., 133.],\n",
      "        [ 81., 101.]])\n"
     ]
    }
   ],
   "source": [
    "for xb,yb in train_dl:\n",
    "    print(\"Batch\")\n",
    "    print(xb)\n",
    "    print(yb)"
   ]
  },
  {
   "cell_type": "code",
   "execution_count": 33,
   "metadata": {},
   "outputs": [],
   "source": [
    "#shuffling helps randomize the algorithm which reduces the chances of loss"
   ]
  },
  {
   "cell_type": "code",
   "execution_count": 37,
   "metadata": {},
   "outputs": [
    {
     "name": "stdout",
     "output_type": "stream",
     "text": [
      "Parameter containing:\n",
      "tensor([[-0.4292, -0.3111, -0.3537],\n",
      "        [ 0.3612,  0.1618,  0.5084]], requires_grad=True)\n",
      "Parameter containing:\n",
      "tensor([ 0.4101, -0.2528], requires_grad=True)\n"
     ]
    }
   ],
   "source": [
    "#Define Model\n",
    "#nn.Linear(number of inputs(temperatur,rainfall,humidity),number of outputs(yield of apples,yield of orange))\n",
    "model=nn.Linear(3,2) \n",
    "print(model.weight)\n",
    "print(model.bias)     #automatically created randomly initialized weights and biases"
   ]
  },
  {
   "cell_type": "code",
   "execution_count": 39,
   "metadata": {},
   "outputs": [
    {
     "data": {
      "text/plain": [
       "[Parameter containing:\n",
       " tensor([[-0.4292, -0.3111, -0.3537],\n",
       "         [ 0.3612,  0.1618,  0.5084]], requires_grad=True),\n",
       " Parameter containing:\n",
       " tensor([ 0.4101, -0.2528], requires_grad=True)]"
      ]
     },
     "execution_count": 39,
     "metadata": {},
     "output_type": "execute_result"
    }
   ],
   "source": [
    "list(model.parameters())  #every model has a .parameters object which contains a list where all the paameter matrices are there "
   ]
  },
  {
   "cell_type": "code",
   "execution_count": 40,
   "metadata": {},
   "outputs": [
    {
     "data": {
      "text/plain": [
       "tensor([[-66.9732,  58.8230],\n",
       "        [-88.6595,  79.4008],\n",
       "        [-99.1291,  82.3498],\n",
       "        [-69.8323,  62.3642],\n",
       "        [-83.8279,  75.7989],\n",
       "        [-66.9732,  58.8230],\n",
       "        [-88.6595,  79.4008],\n",
       "        [-99.1291,  82.3498],\n",
       "        [-69.8323,  62.3642],\n",
       "        [-83.8279,  75.7989],\n",
       "        [-66.9732,  58.8230],\n",
       "        [-88.6595,  79.4008],\n",
       "        [-99.1291,  82.3498],\n",
       "        [-69.8323,  62.3642],\n",
       "        [-83.8279,  75.7989]], grad_fn=<AddmmBackward>)"
      ]
     },
     "execution_count": 40,
     "metadata": {},
     "output_type": "execute_result"
    }
   ],
   "source": [
    "preds=model(inputs)\n",
    "preds"
   ]
  },
  {
   "cell_type": "code",
   "execution_count": 59,
   "metadata": {},
   "outputs": [],
   "source": [
    "import torch.nn.functional as F"
   ]
  },
  {
   "cell_type": "code",
   "execution_count": 60,
   "metadata": {},
   "outputs": [],
   "source": [
    "#the nn.functional package contains many useful loss functions and several other utilities"
   ]
  },
  {
   "cell_type": "code",
   "execution_count": 61,
   "metadata": {},
   "outputs": [],
   "source": [
    "#Define loss function\n",
    "loss_fn=F.mse_loss  #mean squre error\n"
   ]
  },
  {
   "cell_type": "code",
   "execution_count": 62,
   "metadata": {},
   "outputs": [
    {
     "name": "stdout",
     "output_type": "stream",
     "text": [
      "tensor(14049.1465, grad_fn=<MseLossBackward>)\n"
     ]
    }
   ],
   "source": [
    "loss=loss_fn(model(inputs),targets) \n",
    "print(loss)\n"
   ]
  },
  {
   "cell_type": "code",
   "execution_count": 63,
   "metadata": {},
   "outputs": [],
   "source": [
    "#model.parameters() is passed to optiim.SGD where SGD stands for stochastic gradient descent.\n",
    "#It is called stochastic because samples are selected in batches often with random shuffling instead as a single group"
   ]
  },
  {
   "cell_type": "code",
   "execution_count": 64,
   "metadata": {},
   "outputs": [],
   "source": [
    "#Define optomizer\n",
    "opt=torch.optim.SGD(model.parameters(),lr=1e-5)\n",
    "#model.paraters() is passed so that optimizer knoaws whic matrices should be modified during the update step\n",
    "#lr is the leraning rate which controls the amount by which the parameters are modified\n"
   ]
  },
  {
   "cell_type": "code",
   "execution_count": 67,
   "metadata": {},
   "outputs": [],
   "source": [
    "#utility function to train the model\n",
    "def fit(num_epochs,model,loss_fn,opt,train_dl):\n",
    "    \n",
    "    #Reapeat for given number of epochs\n",
    "    for epoch in range(num_epochs):\n",
    "        \n",
    "        #train with bathches of data\n",
    "        for xb,yb in train_dl:\n",
    "            \n",
    "            #Generate predictions\n",
    "            pred=model(xb)\n",
    "            \n",
    "            #Calculate loss\n",
    "            loss=loss_fn(pred,yb)\n",
    "            \n",
    "            #compute gradients\n",
    "            #model.parameters passed to optimizer so by loss.backward() the w.grad aand b.grad will be updated in the optimizer\n",
    "            loss.backward() \n",
    "            \n",
    "            #update parameters using gradients\n",
    "            #in this step it multiplies the gradient with the learning rate and subtracts it from the weight and bais\n",
    "            opt.step()\n",
    "            \n",
    "            #reset the gradients to zero\n",
    "            opt.zero_grad()\n",
    "            \n",
    "        #print the progress\n",
    "        if (epoch+1)%10==0:\n",
    "            print(\"Epoch [{}/{}], Loss: {:.4f}\".format(epoch+1,num_epochs,loss))\n",
    "            "
   ]
  },
  {
   "cell_type": "code",
   "execution_count": 68,
   "metadata": {},
   "outputs": [
    {
     "name": "stdout",
     "output_type": "stream",
     "text": [
      "Epoch [10/100], Loss: 577.8735\n",
      "Epoch [20/100], Loss: 317.5182\n",
      "Epoch [30/100], Loss: 99.8747\n",
      "Epoch [40/100], Loss: 136.2946\n",
      "Epoch [50/100], Loss: 65.3473\n",
      "Epoch [60/100], Loss: 62.9182\n",
      "Epoch [70/100], Loss: 86.6332\n",
      "Epoch [80/100], Loss: 20.4843\n",
      "Epoch [90/100], Loss: 16.0766\n",
      "Epoch [100/100], Loss: 20.5934\n"
     ]
    }
   ],
   "source": [
    "fit(100,model,loss_fn,opt,train_dl)"
   ]
  },
  {
   "cell_type": "code",
   "execution_count": 69,
   "metadata": {},
   "outputs": [
    {
     "data": {
      "text/plain": [
       "tensor([[ 58.5239,  71.5392],\n",
       "        [ 80.2256, 100.0877],\n",
       "        [121.1907, 132.4174],\n",
       "        [ 28.1444,  44.1819],\n",
       "        [ 94.4212, 113.8837],\n",
       "        [ 58.5239,  71.5392],\n",
       "        [ 80.2256, 100.0877],\n",
       "        [121.1907, 132.4174],\n",
       "        [ 28.1444,  44.1819],\n",
       "        [ 94.4212, 113.8837],\n",
       "        [ 58.5239,  71.5392],\n",
       "        [ 80.2256, 100.0877],\n",
       "        [121.1907, 132.4174],\n",
       "        [ 28.1444,  44.1819],\n",
       "        [ 94.4212, 113.8837]], grad_fn=<AddmmBackward>)"
      ]
     },
     "execution_count": 69,
     "metadata": {},
     "output_type": "execute_result"
    }
   ],
   "source": [
    "preds=model(inputs)\n",
    "preds\n"
   ]
  },
  {
   "cell_type": "code",
   "execution_count": 70,
   "metadata": {},
   "outputs": [
    {
     "data": {
      "text/plain": [
       "tensor([[ 56.,  70.],\n",
       "        [ 81., 101.],\n",
       "        [119., 133.],\n",
       "        [ 22.,  37.],\n",
       "        [103., 119.],\n",
       "        [ 56.,  70.],\n",
       "        [ 81., 101.],\n",
       "        [119., 133.],\n",
       "        [ 22.,  37.],\n",
       "        [103., 119.],\n",
       "        [ 56.,  70.],\n",
       "        [ 81., 101.],\n",
       "        [119., 133.],\n",
       "        [ 22.,  37.],\n",
       "        [103., 119.]])"
      ]
     },
     "execution_count": 70,
     "metadata": {},
     "output_type": "execute_result"
    }
   ],
   "source": [
    "#compare with targets\n",
    "targets"
   ]
  },
  {
   "cell_type": "code",
   "execution_count": null,
   "metadata": {},
   "outputs": [],
   "source": []
  }
 ],
 "metadata": {
  "kernelspec": {
   "display_name": "Python 3",
   "language": "python",
   "name": "python3"
  },
  "language_info": {
   "codemirror_mode": {
    "name": "ipython",
    "version": 3
   },
   "file_extension": ".py",
   "mimetype": "text/x-python",
   "name": "python",
   "nbconvert_exporter": "python",
   "pygments_lexer": "ipython3",
   "version": "3.6.12"
  }
 },
 "nbformat": 4,
 "nbformat_minor": 4
}
