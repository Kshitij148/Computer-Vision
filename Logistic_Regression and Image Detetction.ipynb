{
 "cells": [
  {
   "cell_type": "code",
   "execution_count": 260,
   "metadata": {},
   "outputs": [],
   "source": [
    "import torch\n",
    "import torchvision  #conatains utilities to work with image data \n",
    "#and also helps to download and import popular datasets\n",
    "from torchvision.datasets import MNIST\n"
   ]
  },
  {
   "cell_type": "code",
   "execution_count": 261,
   "metadata": {},
   "outputs": [],
   "source": [
    "#download the training dataset\n",
    "dataset=MNIST(root='data/',download=True)\n",
    "#it downloads th data to the data/ directory next to the notebook and creates Pytorch dataset\n"
   ]
  },
  {
   "cell_type": "code",
   "execution_count": 262,
   "metadata": {},
   "outputs": [],
   "source": [
    "#The datset has 60,000 images which can be used to train the model"
   ]
  },
  {
   "cell_type": "code",
   "execution_count": 263,
   "metadata": {},
   "outputs": [
    {
     "data": {
      "text/plain": [
       "Dataset MNIST\n",
       "    Number of datapoints: 60000\n",
       "    Root location: data/\n",
       "    Split: Train"
      ]
     },
     "execution_count": 263,
     "metadata": {},
     "output_type": "execute_result"
    }
   ],
   "source": [
    "dataset\n"
   ]
  },
  {
   "cell_type": "code",
   "execution_count": 264,
   "metadata": {},
   "outputs": [
    {
     "data": {
      "text/plain": [
       "60000"
      ]
     },
     "execution_count": 264,
     "metadata": {},
     "output_type": "execute_result"
    }
   ],
   "source": [
    "len(dataset)  #length of training dataset"
   ]
  },
  {
   "cell_type": "code",
   "execution_count": 265,
   "metadata": {},
   "outputs": [],
   "source": [
    "#test dataset\n",
    "test_dataset=MNIST(root='data/',train=False)\n"
   ]
  },
  {
   "cell_type": "code",
   "execution_count": 266,
   "metadata": {},
   "outputs": [
    {
     "data": {
      "text/plain": [
       "10000"
      ]
     },
     "execution_count": 266,
     "metadata": {},
     "output_type": "execute_result"
    }
   ],
   "source": [
    "len(test_dataset)  #length of test dataset"
   ]
  },
  {
   "cell_type": "code",
   "execution_count": 267,
   "metadata": {},
   "outputs": [
    {
     "data": {
      "text/plain": [
       "(<PIL.Image.Image image mode=L size=28x28 at 0x18E156D2B80>, 5)"
      ]
     },
     "execution_count": 267,
     "metadata": {},
     "output_type": "execute_result"
    }
   ],
   "source": [
    "\n",
    "dataset[0]\n",
    "\n",
    "# (a 28 by 28 pixel image which is an object of class PIL,label for the image)"
   ]
  },
  {
   "cell_type": "code",
   "execution_count": 268,
   "metadata": {},
   "outputs": [],
   "source": [
    "\n",
    "import matplotlib.pyplot as plt\n",
    "%matplotlib inline  \n",
    "#called IPython magic commands\n",
    "#%matplotlib inline is added to indicate to jupyter that we want to plot the commands within the notebook\n",
    "#without this jupyter will show image in a popup\n",
    "\n",
    "#matplotlib imaging and graphing library in python"
   ]
  },
  {
   "cell_type": "code",
   "execution_count": 269,
   "metadata": {},
   "outputs": [
    {
     "name": "stdout",
     "output_type": "stream",
     "text": [
      "Label 5\n"
     ]
    },
    {
     "data": {
      "image/png": "[encoded data removed]",
      "text/plain": [
       "<Figure size 432x288 with 1 Axes>"
      ]
     },
     "metadata": {
      "needs_background": "light"
     },
     "output_type": "display_data"
    }
   ],
   "source": [
    "image,label=dataset[0]\n",
    "plt.imshow(image,cmap=\"gray\")\n",
    "#cmap is telling imshow that the image is grayscale\n",
    "# As it is a PIL image it can be displayed in the notebook using display(pil image)\n",
    "print(\"Label\",label)"
   ]
  },
  {
   "cell_type": "code",
   "execution_count": 270,
   "metadata": {},
   "outputs": [
    {
     "name": "stdout",
     "output_type": "stream",
     "text": [
      "Label 3\n"
     ]
    },
    {
     "data": {
      "image/png": "[encoded data removed]",
      "text/plain": [
       "<Figure size 432x288 with 1 Axes>"
      ]
     },
     "metadata": {
      "needs_background": "light"
     },
     "output_type": "display_data"
    }
   ],
   "source": [
    "image,label=dataset[10]\n",
    "plt.imshow(image,cmap='gray')\n",
    "print(\"Label\",label)\n"
   ]
  },
  {
   "cell_type": "code",
   "execution_count": 271,
   "metadata": {},
   "outputs": [],
   "source": [
    "#pytorchdoesnt know how to work with images.We need to convert the images to tensors\n",
    "#we can do this by specifying a transform while createing our dataset.\n",
    "\n",
    "import torchvision.transforms as transforms"
   ]
  },
  {
   "cell_type": "code",
   "execution_count": 272,
   "metadata": {},
   "outputs": [],
   "source": [
    "#torchvision.transforms contain many such predefined functions \n",
    "#we will use ToTensor transform to convert images into PyTorch tensors "
   ]
  },
  {
   "cell_type": "code",
   "execution_count": 273,
   "metadata": {},
   "outputs": [],
   "source": [
    "\n",
    "\n",
    "\n",
    "#MNIST dataset(images and labels)\n",
    "dataset=MNIST(root='data/',train=True,transform=transforms.ToTensor())\n",
    "\n",
    "#converts the training dataset containing images to tensors"
   ]
  },
  {
   "cell_type": "code",
   "execution_count": 274,
   "metadata": {},
   "outputs": [
    {
     "name": "stdout",
     "output_type": "stream",
     "text": [
      "torch.Size([1, 28, 28]) 5\n"
     ]
    }
   ],
   "source": [
    "img_tensor,label=dataset[0]\n",
    "print(img_tensor.shape,label)\n",
    "\n",
    "#The image is now converted to 1*28*28 tensor\n",
    "#as the image was 28*28 pixels\n",
    "#The first dimension is used to keep track of the color channels\n",
    "#MNIST dataset are grayscale so there's just one channel.\n",
    "#RGB dataset will have 3 channels "
   ]
  },
  {
   "cell_type": "code",
   "execution_count": 275,
   "metadata": {},
   "outputs": [
    {
     "name": "stdout",
     "output_type": "stream",
     "text": [
      "tensor([[[0.0039, 0.6039, 0.9922, 0.3529, 0.0000],\n",
      "         [0.0000, 0.5451, 0.9922, 0.7451, 0.0078],\n",
      "         [0.0000, 0.0431, 0.7451, 0.9922, 0.2745],\n",
      "         [0.0000, 0.0000, 0.1373, 0.9451, 0.8824],\n",
      "         [0.0000, 0.0000, 0.0000, 0.3176, 0.9412]]])\n",
      "tensor(1.) tensor(0.)\n"
     ]
    }
   ],
   "source": [
    "print(img_tensor[:,10:15,10:15])\n",
    "#here we are using array slicing\n",
    "#everything from first dimension in this case there is only one\n",
    "#5 rows  and  5 columns that are between 10 and 15 where 10 is inclusive 15 is exclusive\n",
    "print(torch.max(img_tensor),torch.min(img_tensor))\n",
    "#maximum and minimum values present in the tensor\n",
    "#the numbers in the tensors are pixel values where 0 represents black and 1 represents white\n",
    "#and the values in between are different shades of grey"
   ]
  },
  {
   "cell_type": "code",
   "execution_count": 276,
   "metadata": {},
   "outputs": [
    {
     "data": {
      "image/png": "[encoded data removed]",
      "text/plain": [
       "<Figure size 432x288 with 1 Axes>"
      ]
     },
     "metadata": {
      "needs_background": "light"
     },
     "output_type": "display_data"
    }
   ],
   "source": [
    "#plotting the image by passing in the selected rows and columns\n",
    "plt.imshow(img_tensor[0,10:15,10:15],cmap=\"gray\");\n",
    "\n",
    "#in simple terms array is like tensor([for colour channel[for 28 by 28 pixels[array1],[array2],.........[array28]]])"
   ]
  },
  {
   "cell_type": "code",
   "execution_count": 277,
   "metadata": {},
   "outputs": [],
   "source": [
    "from torch.utils.data import random_split\n",
    "#used to split the training dataset into training and validation set"
   ]
  },
  {
   "cell_type": "code",
   "execution_count": 278,
   "metadata": {},
   "outputs": [
    {
     "data": {
      "text/plain": [
       "(50000, 10000)"
      ]
     },
     "execution_count": 278,
     "metadata": {},
     "output_type": "execute_result"
    }
   ],
   "source": [
    "train_ds,val_ds=random_split(dataset,[50000,10000])\n",
    "len(train_ds),len(val_ds)\n",
    "\n",
    "#random_split(dataset,[amount of data in split1,amount of data in split2])\n",
    "#random split is important to prevent overfitting of model "
   ]
  },
  {
   "cell_type": "code",
   "execution_count": 279,
   "metadata": {},
   "outputs": [],
   "source": [
    "from torch.utils.data import DataLoader\n",
    "\n",
    "batch_size=128\n",
    "\n",
    "train_loader=DataLoader(train_ds,batch_size,shuffle=True)\n",
    "val_loader=DataLoader(val_ds,batch_size)\n",
    "\n",
    "#dataloader is used to make batches each of size 128 rows\n",
    "#shuffle=True helps to randomize and generalize the training process\n",
    "\n",
    "#the validation dataset is used for evaluating the model  so no need of shuffling"
   ]
  },
  {
   "cell_type": "code",
   "execution_count": 280,
   "metadata": {},
   "outputs": [],
   "source": [
    "\n",
    "#pred=x @ w.t() + b \n",
    "\n",
    "#nn.Linear(number of inputs,number of outputs)\n",
    "#Since nn.Linear excepts the each training example to be a vector each 1*28*28 image tensor\n",
    "#needs to be flattened out into a vector of size 784 (28*28) before being passed into the model \n",
    "\n",
    "#The output for each image is the vector of size 10 with each element of the vector signifying the probability a particular label\n",
    "#(0 to 9) . The predicted label for an image is simply the one with the highest probability.\n"
   ]
  },
  {
   "cell_type": "code",
   "execution_count": 281,
   "metadata": {},
   "outputs": [],
   "source": [
    "import torch.nn as nn\n",
    "\n",
    "input_size=28*28\n",
    "num_classes=10   #return probabilities for each label and maximum will be the predicted label\n",
    "\n",
    "#Logistic Regression model\n",
    "\n",
    "model=nn.Linear(input_size,num_classes)"
   ]
  },
  {
   "cell_type": "code",
   "execution_count": 282,
   "metadata": {},
   "outputs": [
    {
     "name": "stdout",
     "output_type": "stream",
     "text": [
      "torch.Size([10, 784])\n"
     ]
    },
    {
     "data": {
      "text/plain": [
       "Parameter containing:\n",
       "tensor([[-0.0265, -0.0225,  0.0041,  ...,  0.0127, -0.0042,  0.0020],\n",
       "        [-0.0330, -0.0002, -0.0011,  ..., -0.0235,  0.0094,  0.0216],\n",
       "        [ 0.0196, -0.0176,  0.0079,  ...,  0.0225, -0.0216,  0.0251],\n",
       "        ...,\n",
       "        [-0.0338,  0.0243, -0.0241,  ...,  0.0342, -0.0153, -0.0219],\n",
       "        [ 0.0115, -0.0046,  0.0354,  ...,  0.0245, -0.0218,  0.0172],\n",
       "        [ 0.0232, -0.0312, -0.0338,  ...,  0.0329, -0.0025, -0.0307]],\n",
       "       requires_grad=True)"
      ]
     },
     "execution_count": 282,
     "metadata": {},
     "output_type": "execute_result"
    }
   ],
   "source": [
    "print(model.weight.shape)\n",
    "model.weight                \n",
    "#the weight tensor\n",
    "#this means tensor([ [784 elements], [784 elements],.......such 10 arrays])\n",
    "#all automatically generated (randomly)"
   ]
  },
  {
   "cell_type": "code",
   "execution_count": 283,
   "metadata": {},
   "outputs": [
    {
     "name": "stdout",
     "output_type": "stream",
     "text": [
      "torch.Size([10])\n"
     ]
    },
    {
     "data": {
      "text/plain": [
       "Parameter containing:\n",
       "tensor([ 0.0269,  0.0027,  0.0197, -0.0264,  0.0078,  0.0238,  0.0052, -0.0197,\n",
       "        -0.0214,  0.0172], requires_grad=True)"
      ]
     },
     "execution_count": 283,
     "metadata": {},
     "output_type": "execute_result"
    }
   ],
   "source": [
    "print(model.bias.shape)\n",
    "model.bias\n",
    "#10 bias values\n",
    "#all automatically generated (randomly)"
   ]
  },
  {
   "cell_type": "code",
   "execution_count": 284,
   "metadata": {},
   "outputs": [
    {
     "name": "stdout",
     "output_type": "stream",
     "text": [
      "tensor([5, 9, 7, 5, 0, 1, 6, 6, 1, 0, 3, 0, 0, 4, 0, 0, 3, 1, 0, 8, 1, 5, 0, 4,\n",
      "        6, 3, 7, 4, 1, 1, 2, 7, 1, 5, 2, 6, 4, 3, 2, 3, 8, 5, 0, 1, 3, 0, 2, 5,\n",
      "        3, 4, 2, 8, 6, 4, 1, 7, 2, 6, 1, 2, 3, 5, 1, 5, 8, 2, 7, 4, 2, 6, 8, 0,\n",
      "        3, 5, 3, 4, 7, 2, 7, 8, 6, 2, 2, 4, 7, 0, 5, 4, 9, 4, 2, 5, 5, 1, 9, 1,\n",
      "        9, 6, 2, 0, 4, 7, 1, 2, 4, 2, 0, 7, 5, 0, 5, 6, 8, 5, 6, 3, 1, 7, 9, 6,\n",
      "        6, 0, 7, 9, 3, 2, 7, 5])\n",
      "torch.Size([128, 1, 28, 28])\n"
     ]
    },
    {
     "ename": "RuntimeError",
     "evalue": "mat1 and mat2 shapes cannot be multiplied (3584x28 and 784x10)",
     "output_type": "error",
     "traceback": [
      "\u001b[1;31m---------------------------------------------------------------------------\u001b[0m",
      "\u001b[1;31mRuntimeError\u001b[0m                              Traceback (most recent call last)",
      "\u001b[1;32m<ipython-input-284-75b684a5155b>\u001b[0m in \u001b[0;36m<module>\u001b[1;34m\u001b[0m\n\u001b[0;32m      2\u001b[0m     \u001b[0mprint\u001b[0m\u001b[1;33m(\u001b[0m\u001b[0mlabels\u001b[0m\u001b[1;33m)\u001b[0m\u001b[1;33m\u001b[0m\u001b[1;33m\u001b[0m\u001b[0m\n\u001b[0;32m      3\u001b[0m     \u001b[0mprint\u001b[0m\u001b[1;33m(\u001b[0m\u001b[0mimages\u001b[0m\u001b[1;33m.\u001b[0m\u001b[0mshape\u001b[0m\u001b[1;33m)\u001b[0m  \u001b[1;31m#[batch size,1,28,28] will represent in this format\u001b[0m\u001b[1;33m\u001b[0m\u001b[1;33m\u001b[0m\u001b[0m\n\u001b[1;32m----> 4\u001b[1;33m     \u001b[0moutput\u001b[0m\u001b[1;33m=\u001b[0m\u001b[0mmodel\u001b[0m\u001b[1;33m(\u001b[0m\u001b[0mimages\u001b[0m\u001b[1;33m)\u001b[0m\u001b[1;33m\u001b[0m\u001b[1;33m\u001b[0m\u001b[0m\n\u001b[0m\u001b[0;32m      5\u001b[0m     \u001b[1;32mbreak\u001b[0m\u001b[1;33m\u001b[0m\u001b[1;33m\u001b[0m\u001b[0m\n\u001b[0;32m      6\u001b[0m \u001b[1;33m\u001b[0m\u001b[0m\n",
      "\u001b[1;32m~\\anaconda3\\lib\\site-packages\\torch\\nn\\modules\\module.py\u001b[0m in \u001b[0;36m_call_impl\u001b[1;34m(self, *input, **kwargs)\u001b[0m\n\u001b[0;32m    725\u001b[0m             \u001b[0mresult\u001b[0m \u001b[1;33m=\u001b[0m \u001b[0mself\u001b[0m\u001b[1;33m.\u001b[0m\u001b[0m_slow_forward\u001b[0m\u001b[1;33m(\u001b[0m\u001b[1;33m*\u001b[0m\u001b[0minput\u001b[0m\u001b[1;33m,\u001b[0m \u001b[1;33m**\u001b[0m\u001b[0mkwargs\u001b[0m\u001b[1;33m)\u001b[0m\u001b[1;33m\u001b[0m\u001b[1;33m\u001b[0m\u001b[0m\n\u001b[0;32m    726\u001b[0m         \u001b[1;32melse\u001b[0m\u001b[1;33m:\u001b[0m\u001b[1;33m\u001b[0m\u001b[1;33m\u001b[0m\u001b[0m\n\u001b[1;32m--> 727\u001b[1;33m             \u001b[0mresult\u001b[0m \u001b[1;33m=\u001b[0m \u001b[0mself\u001b[0m\u001b[1;33m.\u001b[0m\u001b[0mforward\u001b[0m\u001b[1;33m(\u001b[0m\u001b[1;33m*\u001b[0m\u001b[0minput\u001b[0m\u001b[1;33m,\u001b[0m \u001b[1;33m**\u001b[0m\u001b[0mkwargs\u001b[0m\u001b[1;33m)\u001b[0m\u001b[1;33m\u001b[0m\u001b[1;33m\u001b[0m\u001b[0m\n\u001b[0m\u001b[0;32m    728\u001b[0m         for hook in itertools.chain(\n\u001b[0;32m    729\u001b[0m                 \u001b[0m_global_forward_hooks\u001b[0m\u001b[1;33m.\u001b[0m\u001b[0mvalues\u001b[0m\u001b[1;33m(\u001b[0m\u001b[1;33m)\u001b[0m\u001b[1;33m,\u001b[0m\u001b[1;33m\u001b[0m\u001b[1;33m\u001b[0m\u001b[0m\n",
      "\u001b[1;32m~\\anaconda3\\lib\\site-packages\\torch\\nn\\modules\\linear.py\u001b[0m in \u001b[0;36mforward\u001b[1;34m(self, input)\u001b[0m\n\u001b[0;32m     91\u001b[0m \u001b[1;33m\u001b[0m\u001b[0m\n\u001b[0;32m     92\u001b[0m     \u001b[1;32mdef\u001b[0m \u001b[0mforward\u001b[0m\u001b[1;33m(\u001b[0m\u001b[0mself\u001b[0m\u001b[1;33m,\u001b[0m \u001b[0minput\u001b[0m\u001b[1;33m:\u001b[0m \u001b[0mTensor\u001b[0m\u001b[1;33m)\u001b[0m \u001b[1;33m->\u001b[0m \u001b[0mTensor\u001b[0m\u001b[1;33m:\u001b[0m\u001b[1;33m\u001b[0m\u001b[1;33m\u001b[0m\u001b[0m\n\u001b[1;32m---> 93\u001b[1;33m         \u001b[1;32mreturn\u001b[0m \u001b[0mF\u001b[0m\u001b[1;33m.\u001b[0m\u001b[0mlinear\u001b[0m\u001b[1;33m(\u001b[0m\u001b[0minput\u001b[0m\u001b[1;33m,\u001b[0m \u001b[0mself\u001b[0m\u001b[1;33m.\u001b[0m\u001b[0mweight\u001b[0m\u001b[1;33m,\u001b[0m \u001b[0mself\u001b[0m\u001b[1;33m.\u001b[0m\u001b[0mbias\u001b[0m\u001b[1;33m)\u001b[0m\u001b[1;33m\u001b[0m\u001b[1;33m\u001b[0m\u001b[0m\n\u001b[0m\u001b[0;32m     94\u001b[0m \u001b[1;33m\u001b[0m\u001b[0m\n\u001b[0;32m     95\u001b[0m     \u001b[1;32mdef\u001b[0m \u001b[0mextra_repr\u001b[0m\u001b[1;33m(\u001b[0m\u001b[0mself\u001b[0m\u001b[1;33m)\u001b[0m \u001b[1;33m->\u001b[0m \u001b[0mstr\u001b[0m\u001b[1;33m:\u001b[0m\u001b[1;33m\u001b[0m\u001b[1;33m\u001b[0m\u001b[0m\n",
      "\u001b[1;32m~\\anaconda3\\lib\\site-packages\\torch\\nn\\functional.py\u001b[0m in \u001b[0;36mlinear\u001b[1;34m(input, weight, bias)\u001b[0m\n\u001b[0;32m   1690\u001b[0m         \u001b[0mret\u001b[0m \u001b[1;33m=\u001b[0m \u001b[0mtorch\u001b[0m\u001b[1;33m.\u001b[0m\u001b[0maddmm\u001b[0m\u001b[1;33m(\u001b[0m\u001b[0mbias\u001b[0m\u001b[1;33m,\u001b[0m \u001b[0minput\u001b[0m\u001b[1;33m,\u001b[0m \u001b[0mweight\u001b[0m\u001b[1;33m.\u001b[0m\u001b[0mt\u001b[0m\u001b[1;33m(\u001b[0m\u001b[1;33m)\u001b[0m\u001b[1;33m)\u001b[0m\u001b[1;33m\u001b[0m\u001b[1;33m\u001b[0m\u001b[0m\n\u001b[0;32m   1691\u001b[0m     \u001b[1;32melse\u001b[0m\u001b[1;33m:\u001b[0m\u001b[1;33m\u001b[0m\u001b[1;33m\u001b[0m\u001b[0m\n\u001b[1;32m-> 1692\u001b[1;33m         \u001b[0moutput\u001b[0m \u001b[1;33m=\u001b[0m \u001b[0minput\u001b[0m\u001b[1;33m.\u001b[0m\u001b[0mmatmul\u001b[0m\u001b[1;33m(\u001b[0m\u001b[0mweight\u001b[0m\u001b[1;33m.\u001b[0m\u001b[0mt\u001b[0m\u001b[1;33m(\u001b[0m\u001b[1;33m)\u001b[0m\u001b[1;33m)\u001b[0m\u001b[1;33m\u001b[0m\u001b[1;33m\u001b[0m\u001b[0m\n\u001b[0m\u001b[0;32m   1693\u001b[0m         \u001b[1;32mif\u001b[0m \u001b[0mbias\u001b[0m \u001b[1;32mis\u001b[0m \u001b[1;32mnot\u001b[0m \u001b[1;32mNone\u001b[0m\u001b[1;33m:\u001b[0m\u001b[1;33m\u001b[0m\u001b[1;33m\u001b[0m\u001b[0m\n\u001b[0;32m   1694\u001b[0m             \u001b[0moutput\u001b[0m \u001b[1;33m+=\u001b[0m \u001b[0mbias\u001b[0m\u001b[1;33m\u001b[0m\u001b[1;33m\u001b[0m\u001b[0m\n",
      "\u001b[1;31mRuntimeError\u001b[0m: mat1 and mat2 shapes cannot be multiplied (3584x28 and 784x10)"
     ]
    }
   ],
   "source": [
    "for images,labels in train_loader:\n",
    "    print(labels)\n",
    "    print(images.shape)  #[batch size,1,28,28] will represent in this format\n",
    "    output=model(images)\n",
    "    break\n",
    "    \n",
    "#this leads to error because pur input data does not have the right shape\n",
    "#Our images are of the shape 1*28*28 but we need them to be vectors of size 784 that is\n",
    "#flatten them out.\n",
    "\n",
    "#the models expects a vector of size 784 and we gave a 3 dimentional tensor so this created the error"
   ]
  },
  {
   "cell_type": "code",
   "execution_count": 285,
   "metadata": {},
   "outputs": [],
   "source": [
    "#.reshape method of a tensor will allow us to efficiently view each \n",
    "#image as a flat vector \n",
    "\n",
    "#to include this additional functionality within our model we need to define a custom model by\n",
    "#extending the nn.Module class from PyTorch"
   ]
  },
  {
   "cell_type": "code",
   "execution_count": 286,
   "metadata": {},
   "outputs": [],
   "source": [
    "class MnistModel(nn.Module):  #this class extends nn.Module\n",
    "    def __init__(self):       #the constructor\n",
    "        super().__init__()     #using super method to call constructor of nn.Module\n",
    "        self.linear=nn.Linear(input_size,num_classes)\n",
    "        #inside the constructor we instantiate the weights and biases\n",
    "        \n",
    "    def forward(self,xb):       #this method gets executed when we pass some input to the model\n",
    "        xb=xb.reshape(-1,784)\n",
    "        out=self.linear(xb)     #this invokes the above nn.Linear  \n",
    "        #this is similar to model(inputs) and it will return the output that is the prediction\n",
    "        return out\n",
    "    \n",
    "        #reshape(128,784) that is batch size is 128 and each element in batch is a vetor of size 784\n",
    "        #using reshape(-1,784) telling pytorch to figure out what the batch size is dynamically\n",
    "        #so that it works for any batch size\n",
    "        \n",
    "model=MnistModel()  #creating an object of the class \n",
    "        "
   ]
  },
  {
   "cell_type": "code",
   "execution_count": 287,
   "metadata": {},
   "outputs": [],
   "source": [
    "#model has no longer .weight and .bias attriutes\n",
    "#as they are inside the .linear attribute\n",
    "#but it does have a .parameters method which returns the weights and bias\n"
   ]
  },
  {
   "cell_type": "code",
   "execution_count": 288,
   "metadata": {},
   "outputs": [
    {
     "name": "stdout",
     "output_type": "stream",
     "text": [
      "torch.Size([10, 784]) torch.Size([10])\n"
     ]
    },
    {
     "data": {
      "text/plain": [
       "[Parameter containing:\n",
       " tensor([[ 0.0209, -0.0327,  0.0034,  ..., -0.0038,  0.0045, -0.0324],\n",
       "         [ 0.0218, -0.0044,  0.0076,  ...,  0.0030,  0.0063,  0.0180],\n",
       "         [-0.0085,  0.0212, -0.0181,  ...,  0.0018, -0.0346, -0.0279],\n",
       "         ...,\n",
       "         [-0.0344,  0.0065, -0.0068,  ...,  0.0233, -0.0008, -0.0068],\n",
       "         [-0.0176,  0.0250,  0.0117,  ...,  0.0010, -0.0044, -0.0352],\n",
       "         [-0.0136, -0.0250,  0.0062,  ..., -0.0197,  0.0119,  0.0061]],\n",
       "        requires_grad=True),\n",
       " Parameter containing:\n",
       " tensor([ 0.0216, -0.0198,  0.0074,  0.0303,  0.0159,  0.0201, -0.0311, -0.0183,\n",
       "          0.0256,  0.0017], requires_grad=True)]"
      ]
     },
     "execution_count": 288,
     "metadata": {},
     "output_type": "execute_result"
    }
   ],
   "source": [
    "print(model.linear.weight.shape,model.linear.bias.shape)\n",
    "list(model.parameters())  #contains weights and biases"
   ]
  },
  {
   "cell_type": "code",
   "execution_count": 289,
   "metadata": {},
   "outputs": [
    {
     "name": "stdout",
     "output_type": "stream",
     "text": [
      "images.shape: torch.Size([128, 1, 28, 28])\n",
      "output.shape: torch.Size([128, 10])\n",
      "Sample outputs:\n",
      " tensor([[-0.2006,  0.3234,  0.0023, -0.0086, -0.3566,  0.1881,  0.3750,  0.0525,\n",
      "         -0.0327,  0.0806],\n",
      "        [ 0.2168,  0.0146, -0.0093, -0.2380, -0.3442,  0.4468, -0.0377, -0.0420,\n",
      "          0.2362,  0.1194]])\n"
     ]
    }
   ],
   "source": [
    "for images,labels in train_loader:\n",
    "    print(\"images.shape:\",images.shape)\n",
    "    outputs=model(images)\n",
    "    break\n",
    "    \n",
    "print(\"output.shape:\",outputs.shape)\n",
    "print(\"Sample outputs:\\n\",outputs[:2].data) #showing 2 outputs of first batch "
   ]
  },
  {
   "cell_type": "code",
   "execution_count": 290,
   "metadata": {},
   "outputs": [
    {
     "data": {
      "text/plain": [
       "tensor([0.8182, 1.3819, 1.0023, 0.9914, 0.7001, 1.2070, 1.4549, 1.0539, 0.9679,\n",
       "        1.0839], grad_fn=<ExpBackward>)"
      ]
     },
     "execution_count": 290,
     "metadata": {},
     "output_type": "execute_result"
    }
   ],
   "source": [
    "#as the outputs are negative we need to use softmax to convaert them to probabilities\n",
    "exps=torch.exp(outputs[0]) \n",
    "exps\n",
    "\n",
    "\n",
    "#each output is replaced by e to the power output\n",
    "\n",
    "#now the numbers are not between 0 to 1 and also all probabilities should add up to one\n"
   ]
  },
  {
   "cell_type": "code",
   "execution_count": 291,
   "metadata": {},
   "outputs": [
    {
     "data": {
      "text/plain": [
       "tensor([0.0767, 0.1296, 0.0940, 0.0930, 0.0657, 0.1132, 0.1365, 0.0989, 0.0908,\n",
       "        0.1017], grad_fn=<DivBackward0>)"
      ]
     },
     "execution_count": 291,
     "metadata": {},
     "output_type": "execute_result"
    }
   ],
   "source": [
    "probs=exps/torch.sum(exps)   #then we calculate probabilities by dividing each outcome by the sum of all the outcomes \n",
    "probs\n",
    "\n",
    "#softmax formula\n",
    "#  e raise to outcome/ summation(e raise to outcomes)\n",
    "#this will generate the probabilities"
   ]
  },
  {
   "cell_type": "code",
   "execution_count": 292,
   "metadata": {},
   "outputs": [],
   "source": [
    "import torch.nn.functional as F"
   ]
  },
  {
   "cell_type": "code",
   "execution_count": 293,
   "metadata": {},
   "outputs": [
    {
     "name": "stdout",
     "output_type": "stream",
     "text": [
      "Sample probabilities\n",
      " tensor([[0.0767, 0.1296, 0.0940, 0.0930, 0.0657, 0.1132, 0.1365, 0.0989, 0.0908,\n",
      "         0.1017],\n",
      "        [0.1169, 0.0955, 0.0933, 0.0742, 0.0667, 0.1472, 0.0907, 0.0903, 0.1192,\n",
      "         0.1061]])\n",
      "Sum: 1.0\n"
     ]
    }
   ],
   "source": [
    "#now we use inbuilt function for softmax\n",
    "#apply softmax for each ouput row\n",
    "#we tell to apply softmax across  dimension one as the output shape is (128,10)\n",
    "#and the 0th dimension is the batch size so we  want to apply softmax across 1th dimention\n",
    "probs=F.softmax(outputs,dim=1)\n",
    "\n",
    "#look  at sample probabilities\n",
    "print(\"Sample probabilities\\n\",probs[:2].data)\n",
    "\n",
    "\n",
    "#Add up the probabilities of an output row\n",
    "print(\"Sum:\",torch.sum(probs[0]).item())\n"
   ]
  },
  {
   "cell_type": "code",
   "execution_count": 294,
   "metadata": {},
   "outputs": [
    {
     "name": "stdout",
     "output_type": "stream",
     "text": [
      "tensor([6, 5, 8, 3, 5, 8, 8, 8, 1, 2, 9, 0, 6, 8, 1, 8, 8, 5, 5, 2, 1, 8, 2, 5,\n",
      "        5, 5, 0, 5, 8, 7, 5, 5, 0, 8, 1, 1, 5, 8, 5, 8, 1, 8, 6, 8, 8, 0, 1, 6,\n",
      "        8, 5, 8, 9, 5, 8, 5, 1, 5, 6, 8, 8, 2, 1, 8, 2, 5, 8, 5, 6, 8, 5, 5, 5,\n",
      "        0, 5, 8, 8, 5, 8, 6, 6, 1, 2, 8, 3, 5, 5, 5, 8, 1, 5, 5, 8, 8, 8, 1, 8,\n",
      "        1, 5, 8, 8, 8, 8, 5, 2, 1, 1, 1, 1, 8, 6, 9, 2, 5, 8, 5, 0, 8, 1, 8, 8,\n",
      "        1, 5, 8, 8, 6, 1, 8, 8])\n",
      "tensor([0.1365, 0.1472, 0.1277, 0.1253, 0.1563, 0.1325, 0.1342, 0.1430, 0.1308,\n",
      "        0.1243, 0.1165, 0.1312, 0.1306, 0.1513, 0.1447, 0.1223, 0.1359, 0.1179,\n",
      "        0.1345, 0.1180, 0.1394, 0.1261, 0.1344, 0.1304, 0.1329, 0.1514, 0.1177,\n",
      "        0.1392, 0.1256, 0.1158, 0.1297, 0.1213, 0.1206, 0.1470, 0.1295, 0.1303,\n",
      "        0.1260, 0.1373, 0.1311, 0.1484, 0.1156, 0.1352, 0.1372, 0.1745, 0.1217,\n",
      "        0.1155, 0.1238, 0.1218, 0.1201, 0.1358, 0.1324, 0.1206, 0.1265, 0.1334,\n",
      "        0.1273, 0.1256, 0.1404, 0.1216, 0.1255, 0.1404, 0.1250, 0.1323, 0.1604,\n",
      "        0.1487, 0.1481, 0.1323, 0.1337, 0.1292, 0.1340, 0.1314, 0.1469, 0.1201,\n",
      "        0.1348, 0.1432, 0.1461, 0.1342, 0.1191, 0.1464, 0.1307, 0.1263, 0.1634,\n",
      "        0.1354, 0.1418, 0.1325, 0.1292, 0.1336, 0.1309, 0.1231, 0.1308, 0.1435,\n",
      "        0.1285, 0.1325, 0.1392, 0.1518, 0.1447, 0.1399, 0.1331, 0.1265, 0.1421,\n",
      "        0.1205, 0.1434, 0.1365, 0.1775, 0.1474, 0.1310, 0.1458, 0.1329, 0.1642,\n",
      "        0.1396, 0.1337, 0.1159, 0.1814, 0.1476, 0.1184, 0.1216, 0.1217, 0.1420,\n",
      "        0.1369, 0.1457, 0.1312, 0.1280, 0.1343, 0.1367, 0.1287, 0.1137, 0.1261,\n",
      "        0.1305, 0.1371], grad_fn=<MaxBackward0>)\n"
     ]
    }
   ],
   "source": [
    "max_probs,preds=torch.max(probs,dim=1) \n",
    "#torch.max returns the largest element and the index of the largest element along a particular dimension\n",
    "#dim=1 as dimension 0 has batch size\n",
    "print(preds)\n",
    "print(max_probs)"
   ]
  },
  {
   "cell_type": "code",
   "execution_count": 295,
   "metadata": {},
   "outputs": [
    {
     "data": {
      "text/plain": [
       "tensor([5, 1, 7, 2, 6, 4, 0, 8, 2, 2, 2, 7, 3, 7, 6, 9, 8, 9, 1, 2, 0, 4, 6, 2,\n",
       "        1, 6, 9, 2, 3, 9, 1, 1, 1, 3, 6, 3, 3, 8, 2, 0, 6, 9, 3, 5, 6, 7, 3, 0,\n",
       "        4, 6, 8, 4, 9, 5, 5, 1, 5, 6, 1, 5, 5, 0, 5, 9, 1, 8, 5, 6, 5, 9, 3, 7,\n",
       "        8, 6, 5, 5, 9, 0, 6, 3, 0, 7, 5, 4, 4, 5, 9, 7, 0, 1, 0, 9, 3, 7, 0, 5,\n",
       "        6, 2, 3, 4, 4, 8, 6, 0, 0, 5, 8, 0, 7, 8, 2, 0, 5, 9, 1, 1, 5, 6, 0, 9,\n",
       "        5, 4, 5, 4, 3, 5, 9, 7])"
      ]
     },
     "execution_count": 295,
     "metadata": {},
     "output_type": "execute_result"
    }
   ],
   "source": [
    "labels\n",
    "#as we started with random  values of weights and biases prediction is very bad"
   ]
  },
  {
   "cell_type": "code",
   "execution_count": 296,
   "metadata": {},
   "outputs": [],
   "source": [
    "#to do element wise comparision between the prediction and labels\n",
    "#if element matches it stores a 1 else a zero and we sum this and divide by total number of elements in prediction\n",
    "\n",
    "def accuracy(outputs,labels):\n",
    "    _,preds=torch.max(outputs,dim=1)\n",
    "    return torch.tensor(torch.sum(preds==labels).item()/len(preds))"
   ]
  },
  {
   "cell_type": "code",
   "execution_count": 297,
   "metadata": {},
   "outputs": [
    {
     "data": {
      "text/plain": [
       "tensor(0.1328)"
      ]
     },
     "execution_count": 297,
     "metadata": {},
     "output_type": "execute_result"
    }
   ],
   "source": [
    "accuracy(outputs,labels)"
   ]
  },
  {
   "cell_type": "code",
   "execution_count": 298,
   "metadata": {},
   "outputs": [],
   "source": [
    "#the accuracy cannot be used as a loss function for optimizing our model using\n",
    "#gradient descent\n",
    "\n",
    "#1.its not a differentiable function torch.max and == are both non-continuous and non-differentiable\n",
    "#It doesn't take into account the actual probabilities predicted by the model so it can't\n",
    "#provide sufficient feedback for incremental improvements\n",
    "\n",
    "#like accuracy function cannot check that if probabilities of correct label increased but still the probability is\n",
    "#not the highest although the accuracy here as increased .These changes wont effect the accuracy value"
   ]
  },
  {
   "cell_type": "code",
   "execution_count": 299,
   "metadata": {},
   "outputs": [],
   "source": [
    "#cross Entropy\n",
    "\n",
    "#steps in cross entropy\n",
    "#for each output row pick the predicted probability for the correct label and ignore the rest\n",
    "\n",
    "#take the logarithm of the picked probability\n",
    "#if the probability is high  that is close to 1 then its logarithm is a very small negative value close to 0\n",
    "#and if the probability is low close to zero then the logarithm is a very large negative value\n",
    "#we multiply the result by -1 which results in a large positive value of the loss for poor predictions\n",
    "\n",
    "#finally take average of the cross entropy across all the ouput rows to get the overall loss for a batch\n",
    "\n",
    "#Mathematically\n",
    "\n",
    "#take ln of prediction \n",
    "#then create a matrix that has 1 at the highest probability index and 0 at the rest indexes\n",
    "#take the dot product of these 2 matrices\n",
    "#and then take the summation od all these cross entropy values for each row of output\n",
    "#and finally multiply with -1\n",
    "\n",
    "#this function is differentiable as we have created a vector which has all zeros and only 1 at the highest probability\n",
    "#and this allows us to multiply the two vectors\n",
    "\n",
    "#therefore cross entropy can be used as a loss funnction\n"
   ]
  },
  {
   "cell_type": "code",
   "execution_count": 300,
   "metadata": {},
   "outputs": [],
   "source": [
    "loss_fn=F.cross_entropy"
   ]
  },
  {
   "cell_type": "code",
   "execution_count": 301,
   "metadata": {},
   "outputs": [
    {
     "name": "stdout",
     "output_type": "stream",
     "text": [
      "tensor(2.3003, grad_fn=<NllLossBackward>)\n"
     ]
    }
   ],
   "source": [
    "#Loss for current batch of data (cross_entropy automatically does the softmax function as well)\n",
    "loss=loss_fn(outputs,labels)\n",
    "print(loss)\n",
    "\n",
    "#the .item() method extracts the value as a python float"
   ]
  },
  {
   "cell_type": "code",
   "execution_count": 302,
   "metadata": {},
   "outputs": [],
   "source": [
    "class MnistModel(nn.Module):  #this class extends nn.Module\n",
    "    def __init__(self):       #the constructor\n",
    "        super().__init__()     #using super method to call constructor of nn.Module\n",
    "        self.linear=nn.Linear(input_size,num_classes)\n",
    "        #inside the constructor we instantiate the weights and biases\n",
    "        \n",
    "    def forward(self,xb):       #this method gets executed when we pass some input to the model\n",
    "        xb=xb.reshape(-1,784)\n",
    "        out=self.linear(xb)     #this invokes the above nn.Linear  \n",
    "        #this is similar to model(inputs) and it will return the output that is the prediction\n",
    "        return out\n",
    "    \n",
    "    def training_step(self,batch):\n",
    "        images,labels=batch\n",
    "        out=self(images)    #generate predictions        \n",
    "        #inside the model self is the model itself\n",
    "        #so we pass the images to the MnistModel\n",
    "        #and caluculate the loss\n",
    "        loss=F.cross_entropy(out,labels)\n",
    "        return loss\n",
    "    \n",
    "    def validation_step(self,batch):\n",
    "        images,labels=batch\n",
    "        out=self(images)               #generate predictions\n",
    "        loss=F.cross_entropy(out,labels)   #calculate loss\n",
    "        acc=accuracy(out,labels)             #calculate accuracy\n",
    "        #this function is defined earlier \n",
    "        return {\"val_loss\": loss,\"val_acc\": acc}\n",
    "    \n",
    "    def validation_epoch_end(self,outputs):\n",
    "        batch_losses=[x[\"val_loss\"] for x in outputs]\n",
    "        epoch_loss=torch.stack(batch_losses).mean()  #combine losses\n",
    "        #.stack() concates the tensor along a dimension \n",
    "        batch_accs=[x[\"val_acc\"] for x in outputs]\n",
    "        epoch_acc=torch.stack(batch_accs).mean()  #combine accuracies\n",
    "        \n",
    "        return {\"val_loss\": epoch_loss.item(),\"val_acc\": epoch_acc.item()}\n",
    "    \n",
    "    \n",
    "    \n",
    "        \n",
    "    def epoch_end(self,epoch,result):\n",
    "        print(\"Epoch [{}], val_loss: {:.4f},val_acc: {:.4f}\".format(epoch,result[\"val_loss\"],result[\"val_acc\"]))\n",
    "        \n",
    "\n",
    "        \n",
    "        \n",
    "model=MnistModel()\n",
    "        \n",
    "    \n",
    "        \n",
    "        \n",
    "    \n",
    "    \n",
    "    "
   ]
  },
  {
   "cell_type": "code",
   "execution_count": 303,
   "metadata": {},
   "outputs": [],
   "source": [
    "def evaluate(model,val_loader):\n",
    "    outputs=[model.validation_step(batch) for batch in val_loader]\n",
    "    return model.validation_epoch_end(outputs)\n",
    "\n",
    "\n",
    "\n"
   ]
  },
  {
   "cell_type": "code",
   "execution_count": 304,
   "metadata": {},
   "outputs": [
    {
     "data": {
      "text/plain": [
       "{'val_loss': 2.3198418617248535, 'val_acc': 0.11609968543052673}"
      ]
     },
     "execution_count": 304,
     "metadata": {},
     "output_type": "execute_result"
    }
   ],
   "source": [
    "result0 = evaluate(model, val_loader)\n",
    "result0"
   ]
  },
  {
   "cell_type": "code",
   "execution_count": 305,
   "metadata": {},
   "outputs": [],
   "source": [
    "class MnistModel(nn.Module):\n",
    "    def __init__(self):\n",
    "        super().__init__()\n",
    "        self.linear = nn.Linear(input_size, num_classes)\n",
    "        \n",
    "    def forward(self, xb):\n",
    "        xb = xb.reshape(-1, 784)\n",
    "        out = self.linear(xb)\n",
    "        return out\n",
    "    \n",
    "    def training_step(self, batch):\n",
    "        images, labels = batch \n",
    "        out = self(images)                  # Generate predictions\n",
    "        loss = F.cross_entropy(out, labels) # Calculate loss\n",
    "        return loss\n",
    "    \n",
    "    def validation_step(self, batch):\n",
    "        images, labels = batch \n",
    "        out = self(images)                    # Generate predictions\n",
    "        loss = F.cross_entropy(out, labels)   # Calculate loss\n",
    "        acc = accuracy(out, labels)           # Calculate accuracy\n",
    "        return {'val_loss': loss, 'val_acc': acc}\n",
    "        \n",
    "    def validation_epoch_end(self, outputs):\n",
    "        batch_losses = [x['val_loss'] for x in outputs]\n",
    "        epoch_loss = torch.stack(batch_losses).mean()   # Combine losses\n",
    "        batch_accs = [x['val_acc'] for x in outputs]\n",
    "        epoch_acc = torch.stack(batch_accs).mean()      # Combine accuracies\n",
    "        return {'val_loss': epoch_loss.item(), 'val_acc': epoch_acc.item()}\n",
    "    \n",
    "    def epoch_end(self, epoch, result):\n",
    "        print(\"Epoch [{}], val_loss: {:.4f}, val_acc: {:.4f}\".format(epoch, result['val_loss'], result['val_acc']))\n",
    "    \n",
    "model = MnistModel()"
   ]
  },
  {
   "cell_type": "code",
   "execution_count": 308,
   "metadata": {},
   "outputs": [],
   "source": [
    "def evaluate(model, val_loader):\n",
    "    outputs = [model.validation_step(batch) for batch in val_loader]\n",
    "    return model.validation_epoch_end(outputs)\n",
    "\n",
    "def fit(epochs, lr, model, train_loader, val_loader, opt_func=torch.optim.SGD):\n",
    "    history=[]\n",
    "    optimizer=opt_func(model.parameters(),lr)\n",
    "    for epoch in range(epochs):\n",
    "        #training phase\n",
    "        for batch in train_loader:\n",
    "            loss=model.training_step(batch)\n",
    "            loss.backward()\n",
    "            optimizer.step()  #this performs the gradient desecent\n",
    "            optimizer.zero_grad()\n",
    "        #validation phase\n",
    "        result=evaluate(model,val_loader)\n",
    "        model.epoch_end(epoch,result)\n",
    "        history.append(result)\n",
    "    return history\n",
    "        "
   ]
  },
  {
   "cell_type": "code",
   "execution_count": 307,
   "metadata": {},
   "outputs": [
    {
     "data": {
      "text/plain": [
       "{'val_loss': 2.3397204875946045, 'val_acc': 0.08306962251663208}"
      ]
     },
     "execution_count": 307,
     "metadata": {},
     "output_type": "execute_result"
    }
   ],
   "source": [
    "result0 = evaluate(model, val_loader)\n",
    "result0"
   ]
  },
  {
   "cell_type": "code",
   "execution_count": null,
   "metadata": {},
   "outputs": [],
   "source": []
  },
  {
   "cell_type": "code",
   "execution_count": 309,
   "metadata": {},
   "outputs": [
    {
     "name": "stdout",
     "output_type": "stream",
     "text": [
      "Epoch [0], val_loss: 1.9700, val_acc: 0.5956\n",
      "Epoch [1], val_loss: 1.6956, val_acc: 0.7276\n",
      "Epoch [2], val_loss: 1.4900, val_acc: 0.7697\n",
      "Epoch [3], val_loss: 1.3346, val_acc: 0.7907\n",
      "Epoch [4], val_loss: 1.2151, val_acc: 0.8038\n"
     ]
    }
   ],
   "source": [
    "history1=fit(5,0.001,model,train_loader,val_loader)"
   ]
  },
  {
   "cell_type": "code",
   "execution_count": 313,
   "metadata": {},
   "outputs": [],
   "source": [
    "#define test dataset\n",
    "test_dataset=MNIST(root='data/',train=False,transform=transforms.ToTensor())\n"
   ]
  },
  {
   "cell_type": "code",
   "execution_count": 319,
   "metadata": {},
   "outputs": [
    {
     "name": "stdout",
     "output_type": "stream",
     "text": [
      "Shape: torch.Size([1, 28, 28])\n",
      "Label: 7\n"
     ]
    },
    {
     "data": {
      "image/png": "[encoded data removed]",
      "text/plain": [
       "<Figure size 432x288 with 1 Axes>"
      ]
     },
     "metadata": {
      "needs_background": "light"
     },
     "output_type": "display_data"
    }
   ],
   "source": [
    "img,label=test_dataset[0]\n",
    "plt.imshow(img[0],cmap='gray')\n",
    "print('Shape:',img.shape)\n",
    "print(\"Label:\",label)\n",
    "\n",
    "\n"
   ]
  },
  {
   "cell_type": "code",
   "execution_count": null,
   "metadata": {},
   "outputs": [],
   "source": []
  },
  {
   "cell_type": "code",
   "execution_count": 320,
   "metadata": {},
   "outputs": [],
   "source": [
    "def predict_image(img,model):\n",
    "    xb=img.unsqueeze(0) #as aour model accepts batches unsqueeze adds an additional dimension for batch that is [1,1,28,28]\n",
    "    yb=model(xb)\n",
    "    _,preds=torch.max(yb,dim=1)\n",
    "    return preds[0].item()"
   ]
  },
  {
   "cell_type": "code",
   "execution_count": 324,
   "metadata": {},
   "outputs": [
    {
     "name": "stdout",
     "output_type": "stream",
     "text": [
      "Label: 2 Predicted: 8\n"
     ]
    },
    {
     "data": {
      "image/png": "[encoded data removed]",
      "text/plain": [
       "<Figure size 432x288 with 1 Axes>"
      ]
     },
     "metadata": {
      "needs_background": "light"
     },
     "output_type": "display_data"
    }
   ],
   "source": [
    "img,label=test_dataset[1839]\n",
    "plt.imshow(img[0],cmap=\"gray\")\n",
    "print(\"Label:\",label,\"Predicted:\",predict_image(img,model))"
   ]
  },
  {
   "cell_type": "code",
   "execution_count": 325,
   "metadata": {},
   "outputs": [
    {
     "name": "stdout",
     "output_type": "stream",
     "text": [
      "Label: 4 Predicted: 4\n"
     ]
    },
    {
     "data": {
      "image/png": "[encoded data removed]",
      "text/plain": [
       "<Figure size 432x288 with 1 Axes>"
      ]
     },
     "metadata": {
      "needs_background": "light"
     },
     "output_type": "display_data"
    }
   ],
   "source": [
    "img,label=test_dataset[139]\n",
    "plt.imshow(img[0],cmap=\"gray\")\n",
    "print(\"Label:\",label,\"Predicted:\",predict_image(img,model))"
   ]
  },
  {
   "cell_type": "code",
   "execution_count": 326,
   "metadata": {},
   "outputs": [
    {
     "data": {
      "text/plain": [
       "{'val_loss': 1.1929028034210205, 'val_acc': 0.80810546875}"
      ]
     },
     "execution_count": 326,
     "metadata": {},
     "output_type": "execute_result"
    }
   ],
   "source": [
    "test_loader=DataLoader(test_dataset,batch_size=256)\n",
    "result=evaluate(model,test_loader)\n",
    "result"
   ]
  },
  {
   "cell_type": "code",
   "execution_count": 327,
   "metadata": {},
   "outputs": [],
   "source": [
    "torch.save(model.state_dict(),\"mnist-logistic.pth\") #to save the model"
   ]
  },
  {
   "cell_type": "code",
   "execution_count": 328,
   "metadata": {},
   "outputs": [
    {
     "data": {
      "text/plain": [
       "OrderedDict([('linear.weight',\n",
       "              tensor([[ 0.0254, -0.0036, -0.0161,  ..., -0.0288,  0.0328,  0.0219],\n",
       "                      [ 0.0073,  0.0261,  0.0116,  ...,  0.0006, -0.0071, -0.0029],\n",
       "                      [-0.0347, -0.0007, -0.0063,  ..., -0.0233,  0.0260, -0.0123],\n",
       "                      ...,\n",
       "                      [-0.0177,  0.0237,  0.0108,  ...,  0.0163,  0.0071,  0.0269],\n",
       "                      [-0.0310,  0.0175,  0.0283,  ...,  0.0174,  0.0078,  0.0331],\n",
       "                      [ 0.0126, -0.0225, -0.0345,  ...,  0.0056,  0.0282, -0.0055]])),\n",
       "             ('linear.bias',\n",
       "              tensor([-0.0012,  0.0236, -0.0163,  0.0196,  0.0263,  0.0423, -0.0276,  0.0434,\n",
       "                      -0.0119, -0.0238]))])"
      ]
     },
     "execution_count": 328,
     "metadata": {},
     "output_type": "execute_result"
    }
   ],
   "source": [
    "model.state_dict()  #contains the weights and biases to avoid training again and again"
   ]
  },
  {
   "cell_type": "code",
   "execution_count": 330,
   "metadata": {},
   "outputs": [
    {
     "data": {
      "text/plain": [
       "OrderedDict([('linear.weight',\n",
       "              tensor([[ 0.0254, -0.0036, -0.0161,  ..., -0.0288,  0.0328,  0.0219],\n",
       "                      [ 0.0073,  0.0261,  0.0116,  ...,  0.0006, -0.0071, -0.0029],\n",
       "                      [-0.0347, -0.0007, -0.0063,  ..., -0.0233,  0.0260, -0.0123],\n",
       "                      ...,\n",
       "                      [-0.0177,  0.0237,  0.0108,  ...,  0.0163,  0.0071,  0.0269],\n",
       "                      [-0.0310,  0.0175,  0.0283,  ...,  0.0174,  0.0078,  0.0331],\n",
       "                      [ 0.0126, -0.0225, -0.0345,  ...,  0.0056,  0.0282, -0.0055]])),\n",
       "             ('linear.bias',\n",
       "              tensor([-0.0012,  0.0236, -0.0163,  0.0196,  0.0263,  0.0423, -0.0276,  0.0434,\n",
       "                      -0.0119, -0.0238]))])"
      ]
     },
     "execution_count": 330,
     "metadata": {},
     "output_type": "execute_result"
    }
   ],
   "source": [
    "model2=MnistModel()\n",
    "model2.load_state_dict(torch.load(\"mnist-logistic.pth\"))  #to load the stored weights and biases\n",
    "model2.state_dict()"
   ]
  },
  {
   "cell_type": "code",
   "execution_count": 331,
   "metadata": {},
   "outputs": [
    {
     "data": {
      "text/plain": [
       "{'val_loss': 1.1929028034210205, 'val_acc': 0.80810546875}"
      ]
     },
     "execution_count": 331,
     "metadata": {},
     "output_type": "execute_result"
    }
   ],
   "source": [
    "test_loader=DataLoader(test_dataset,batch_size=256)\n",
    "result=evaluate(model2,test_loader)\n",
    "result"
   ]
  },
  {
   "cell_type": "code",
   "execution_count": null,
   "metadata": {},
   "outputs": [],
   "source": []
  }
 ],
 "metadata": {
  "kernelspec": {
   "display_name": "Python 3",
   "language": "python",
   "name": "python3"
  },
  "language_info": {
   "codemirror_mode": {
    "name": "ipython",
    "version": 3
   },
   "file_extension": ".py",
   "mimetype": "text/x-python",
   "name": "python",
   "nbconvert_exporter": "python",
   "pygments_lexer": "ipython3",
   "version": "3.8.3"
  }
 },
 "nbformat": 4,
 "nbformat_minor": 4
}
